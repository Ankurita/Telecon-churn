{
 "cells": [
  {
   "cell_type": "code",
   "execution_count": 1,
   "metadata": {
    "collapsed": true
   },
   "outputs": [],
   "source": [
    "import pandas as pd\n",
    "import numpy as np\n",
    "import matplotlib.pyplot as plt\n",
    "import seaborn as sns"
   ]
  },
  {
   "cell_type": "code",
   "execution_count": 2,
   "metadata": {
    "collapsed": true
   },
   "outputs": [],
   "source": [
    "df=pd.read_csv('telco_chrun_encoded.csv')\n",
    "#df=df.sample(frac=0.25)   #to take a fraction of data\n",
    "df=df.sample(frac=0.25,random_state=3)"
   ]
  },
  {
   "cell_type": "code",
   "execution_count": 3,
   "metadata": {},
   "outputs": [
    {
     "data": {
      "text/html": [
       "<div>\n",
       "<style>\n",
       "    .dataframe thead tr:only-child th {\n",
       "        text-align: right;\n",
       "    }\n",
       "\n",
       "    .dataframe thead th {\n",
       "        text-align: left;\n",
       "    }\n",
       "\n",
       "    .dataframe tbody tr th {\n",
       "        vertical-align: top;\n",
       "    }\n",
       "</style>\n",
       "<table border=\"1\" class=\"dataframe\">\n",
       "  <thead>\n",
       "    <tr style=\"text-align: right;\">\n",
       "      <th></th>\n",
       "      <th>gender</th>\n",
       "      <th>senior</th>\n",
       "      <th>partner</th>\n",
       "      <th>dependents</th>\n",
       "      <th>tenure</th>\n",
       "      <th>phone_service</th>\n",
       "      <th>multiple_lines</th>\n",
       "      <th>online_security</th>\n",
       "      <th>online_backup</th>\n",
       "      <th>device_protection</th>\n",
       "      <th>...</th>\n",
       "      <th>total_charges</th>\n",
       "      <th>churn</th>\n",
       "      <th>avg_monthly_charges</th>\n",
       "      <th>internet_service-fiber_optic</th>\n",
       "      <th>internet_service-no</th>\n",
       "      <th>contract-one_year</th>\n",
       "      <th>contract-two_year</th>\n",
       "      <th>payment_method-credit_card_auto</th>\n",
       "      <th>payment_method-electronic_check</th>\n",
       "      <th>payment_method-mailed_check</th>\n",
       "    </tr>\n",
       "  </thead>\n",
       "  <tbody>\n",
       "    <tr>\n",
       "      <th>5571</th>\n",
       "      <td>0</td>\n",
       "      <td>0</td>\n",
       "      <td>0</td>\n",
       "      <td>0</td>\n",
       "      <td>48</td>\n",
       "      <td>1</td>\n",
       "      <td>0</td>\n",
       "      <td>0</td>\n",
       "      <td>0</td>\n",
       "      <td>0</td>\n",
       "      <td>...</td>\n",
       "      <td>1004.50</td>\n",
       "      <td>0</td>\n",
       "      <td>20.927083</td>\n",
       "      <td>0</td>\n",
       "      <td>1</td>\n",
       "      <td>1</td>\n",
       "      <td>0</td>\n",
       "      <td>0</td>\n",
       "      <td>0</td>\n",
       "      <td>0</td>\n",
       "    </tr>\n",
       "    <tr>\n",
       "      <th>3432</th>\n",
       "      <td>0</td>\n",
       "      <td>0</td>\n",
       "      <td>1</td>\n",
       "      <td>0</td>\n",
       "      <td>18</td>\n",
       "      <td>1</td>\n",
       "      <td>1</td>\n",
       "      <td>0</td>\n",
       "      <td>0</td>\n",
       "      <td>0</td>\n",
       "      <td>...</td>\n",
       "      <td>1687.95</td>\n",
       "      <td>1</td>\n",
       "      <td>93.775000</td>\n",
       "      <td>1</td>\n",
       "      <td>0</td>\n",
       "      <td>0</td>\n",
       "      <td>0</td>\n",
       "      <td>0</td>\n",
       "      <td>1</td>\n",
       "      <td>0</td>\n",
       "    </tr>\n",
       "    <tr>\n",
       "      <th>2170</th>\n",
       "      <td>1</td>\n",
       "      <td>0</td>\n",
       "      <td>0</td>\n",
       "      <td>0</td>\n",
       "      <td>30</td>\n",
       "      <td>1</td>\n",
       "      <td>0</td>\n",
       "      <td>0</td>\n",
       "      <td>0</td>\n",
       "      <td>0</td>\n",
       "      <td>...</td>\n",
       "      <td>2555.90</td>\n",
       "      <td>1</td>\n",
       "      <td>85.196667</td>\n",
       "      <td>1</td>\n",
       "      <td>0</td>\n",
       "      <td>0</td>\n",
       "      <td>0</td>\n",
       "      <td>0</td>\n",
       "      <td>1</td>\n",
       "      <td>0</td>\n",
       "    </tr>\n",
       "    <tr>\n",
       "      <th>4230</th>\n",
       "      <td>0</td>\n",
       "      <td>0</td>\n",
       "      <td>0</td>\n",
       "      <td>0</td>\n",
       "      <td>5</td>\n",
       "      <td>1</td>\n",
       "      <td>0</td>\n",
       "      <td>0</td>\n",
       "      <td>0</td>\n",
       "      <td>1</td>\n",
       "      <td>...</td>\n",
       "      <td>346.40</td>\n",
       "      <td>1</td>\n",
       "      <td>69.280000</td>\n",
       "      <td>0</td>\n",
       "      <td>0</td>\n",
       "      <td>0</td>\n",
       "      <td>0</td>\n",
       "      <td>0</td>\n",
       "      <td>1</td>\n",
       "      <td>0</td>\n",
       "    </tr>\n",
       "    <tr>\n",
       "      <th>510</th>\n",
       "      <td>0</td>\n",
       "      <td>0</td>\n",
       "      <td>0</td>\n",
       "      <td>0</td>\n",
       "      <td>61</td>\n",
       "      <td>1</td>\n",
       "      <td>1</td>\n",
       "      <td>1</td>\n",
       "      <td>0</td>\n",
       "      <td>1</td>\n",
       "      <td>...</td>\n",
       "      <td>6300.15</td>\n",
       "      <td>0</td>\n",
       "      <td>103.281148</td>\n",
       "      <td>1</td>\n",
       "      <td>0</td>\n",
       "      <td>0</td>\n",
       "      <td>0</td>\n",
       "      <td>0</td>\n",
       "      <td>1</td>\n",
       "      <td>0</td>\n",
       "    </tr>\n",
       "  </tbody>\n",
       "</table>\n",
       "<p>5 rows × 25 columns</p>\n",
       "</div>"
      ],
      "text/plain": [
       "      gender  senior  partner  dependents  tenure  phone_service  \\\n",
       "5571       0       0        0           0      48              1   \n",
       "3432       0       0        1           0      18              1   \n",
       "2170       1       0        0           0      30              1   \n",
       "4230       0       0        0           0       5              1   \n",
       "510        0       0        0           0      61              1   \n",
       "\n",
       "      multiple_lines  online_security  online_backup  device_protection  \\\n",
       "5571               0                0              0                  0   \n",
       "3432               1                0              0                  0   \n",
       "2170               0                0              0                  0   \n",
       "4230               0                0              0                  1   \n",
       "510                1                1              0                  1   \n",
       "\n",
       "                 ...               total_charges  churn  avg_monthly_charges  \\\n",
       "5571             ...                     1004.50      0            20.927083   \n",
       "3432             ...                     1687.95      1            93.775000   \n",
       "2170             ...                     2555.90      1            85.196667   \n",
       "4230             ...                      346.40      1            69.280000   \n",
       "510              ...                     6300.15      0           103.281148   \n",
       "\n",
       "      internet_service-fiber_optic  internet_service-no  contract-one_year  \\\n",
       "5571                             0                    1                  1   \n",
       "3432                             1                    0                  0   \n",
       "2170                             1                    0                  0   \n",
       "4230                             0                    0                  0   \n",
       "510                              1                    0                  0   \n",
       "\n",
       "      contract-two_year  payment_method-credit_card_auto  \\\n",
       "5571                  0                                0   \n",
       "3432                  0                                0   \n",
       "2170                  0                                0   \n",
       "4230                  0                                0   \n",
       "510                   0                                0   \n",
       "\n",
       "      payment_method-electronic_check  payment_method-mailed_check  \n",
       "5571                                0                            0  \n",
       "3432                                1                            0  \n",
       "2170                                1                            0  \n",
       "4230                                1                            0  \n",
       "510                                 1                            0  \n",
       "\n",
       "[5 rows x 25 columns]"
      ]
     },
     "execution_count": 3,
     "metadata": {},
     "output_type": "execute_result"
    }
   ],
   "source": [
    "df.head()"
   ]
  },
  {
   "cell_type": "code",
   "execution_count": 4,
   "metadata": {},
   "outputs": [
    {
     "name": "stdout",
     "output_type": "stream",
     "text": [
      "<class 'pandas.core.frame.DataFrame'>\n",
      "Int64Index: 1758 entries, 5571 to 3151\n",
      "Data columns (total 25 columns):\n",
      "gender                             1758 non-null int64\n",
      "senior                             1758 non-null int64\n",
      "partner                            1758 non-null int64\n",
      "dependents                         1758 non-null int64\n",
      "tenure                             1758 non-null int64\n",
      "phone_service                      1758 non-null int64\n",
      "multiple_lines                     1758 non-null int64\n",
      "online_security                    1758 non-null int64\n",
      "online_backup                      1758 non-null int64\n",
      "device_protection                  1758 non-null int64\n",
      "tech_support                       1758 non-null int64\n",
      "streaming_tv                       1758 non-null int64\n",
      "streaming_movies                   1758 non-null int64\n",
      "paperless_billing                  1758 non-null int64\n",
      "monthly_charges                    1758 non-null float64\n",
      "total_charges                      1758 non-null float64\n",
      "churn                              1758 non-null int64\n",
      "avg_monthly_charges                1758 non-null float64\n",
      "internet_service-fiber_optic       1758 non-null int64\n",
      "internet_service-no                1758 non-null int64\n",
      "contract-one_year                  1758 non-null int64\n",
      "contract-two_year                  1758 non-null int64\n",
      "payment_method-credit_card_auto    1758 non-null int64\n",
      "payment_method-electronic_check    1758 non-null int64\n",
      "payment_method-mailed_check        1758 non-null int64\n",
      "dtypes: float64(3), int64(22)\n",
      "memory usage: 357.1 KB\n"
     ]
    }
   ],
   "source": [
    "df.info()"
   ]
  },
  {
   "cell_type": "code",
   "execution_count": 5,
   "metadata": {},
   "outputs": [
    {
     "data": {
      "text/plain": [
       "gender                             0\n",
       "senior                             0\n",
       "partner                            0\n",
       "dependents                         0\n",
       "tenure                             0\n",
       "phone_service                      0\n",
       "multiple_lines                     0\n",
       "online_security                    0\n",
       "online_backup                      0\n",
       "device_protection                  0\n",
       "tech_support                       0\n",
       "streaming_tv                       0\n",
       "streaming_movies                   0\n",
       "paperless_billing                  0\n",
       "monthly_charges                    0\n",
       "total_charges                      0\n",
       "churn                              0\n",
       "avg_monthly_charges                0\n",
       "internet_service-fiber_optic       0\n",
       "internet_service-no                0\n",
       "contract-one_year                  0\n",
       "contract-two_year                  0\n",
       "payment_method-credit_card_auto    0\n",
       "payment_method-electronic_check    0\n",
       "payment_method-mailed_check        0\n",
       "dtype: int64"
      ]
     },
     "execution_count": 5,
     "metadata": {},
     "output_type": "execute_result"
    }
   ],
   "source": [
    "df.isnull().sum()"
   ]
  },
  {
   "cell_type": "code",
   "execution_count": 6,
   "metadata": {
    "collapsed": true
   },
   "outputs": [],
   "source": [
    "y=df['churn']\n",
    "X=df.drop('churn',axis=1)"
   ]
  },
  {
   "cell_type": "code",
   "execution_count": 7,
   "metadata": {},
   "outputs": [
    {
     "data": {
      "text/plain": [
       "0    1318\n",
       "1     440\n",
       "Name: churn, dtype: int64"
      ]
     },
     "execution_count": 7,
     "metadata": {},
     "output_type": "execute_result"
    }
   ],
   "source": [
    "df.churn.value_counts()"
   ]
  },
  {
   "cell_type": "code",
   "execution_count": 8,
   "metadata": {},
   "outputs": [
    {
     "data": {
      "image/png": "[encoded data removed]",
      "text/plain": [
       "<matplotlib.figure.Figure at 0x1ffbd72e748>"
      ]
     },
     "metadata": {},
     "output_type": "display_data"
    }
   ],
   "source": [
    "df.churn.value_counts(normalize=True).plot.bar()\n",
    "plt.show()"
   ]
  },
  {
   "cell_type": "markdown",
   "metadata": {},
   "source": [
    "#### building predictive algorith using Random Forest"
   ]
  },
  {
   "cell_type": "code",
   "execution_count": 9,
   "metadata": {
    "collapsed": true
   },
   "outputs": [],
   "source": [
    "from sklearn.model_selection import train_test_split\n",
    "X_train,X_test,y_train,y_test=train_test_split(X,y,test_size=0.30,random_state=3)"
   ]
  },
  {
   "cell_type": "code",
   "execution_count": 10,
   "metadata": {
    "collapsed": true
   },
   "outputs": [],
   "source": [
    "from sklearn.preprocessing import StandardScaler   #standarize the data\n",
    "ss=StandardScaler()\n",
    "xs=ss.fit_transform(X)\n",
    "\n",
    "X_trains=ss.fit_transform(X_train)\n",
    "X_tests=ss.transform(X_test)"
   ]
  },
  {
   "cell_type": "code",
   "execution_count": 11,
   "metadata": {
    "collapsed": true
   },
   "outputs": [],
   "source": [
    "from sklearn.metrics import confusion_matrix,accuracy_score,roc_auc_score,roc_curve"
   ]
  },
  {
   "cell_type": "code",
   "execution_count": 12,
   "metadata": {},
   "outputs": [
    {
     "name": "stdout",
     "output_type": "stream",
     "text": [
      "confusion matrix-train\n",
      " [[912   0]\n",
      " [  0 318]]\n",
      "overall accuracy-train 1.0\n",
      "AUC-train 1.0\n",
      "confusion matrix-test\n",
      " [[367  39]\n",
      " [ 64  58]]\n",
      "overall accuracy-test 0.804924242424\n",
      "AUC-test 0.822427925382\n"
     ]
    },
    {
     "data": {
      "image/png": "[encoded data removed]",
      "text/plain": [
       "<matplotlib.figure.Figure at 0x1ffbda02eb8>"
      ]
     },
     "metadata": {},
     "output_type": "display_data"
    }
   ],
   "source": [
    "from sklearn.ensemble import RandomForestClassifier\n",
    "rfc=RandomForestClassifier()\n",
    "\n",
    "\n",
    "rfc.fit(X_trains,y_train)\n",
    "\n",
    "y_pred=rfc.predict(X_trains)\n",
    "\n",
    "y_train_prob=rfc.predict_proba(X_trains)[:,1]\n",
    "print('confusion matrix-train\\n',confusion_matrix(y_train,y_pred))\n",
    "print('overall accuracy-train',accuracy_score(y_train,y_pred))\n",
    "print('AUC-train',roc_auc_score(y_train,y_train_prob))\n",
    "\n",
    "y_test_pred=rfc.predict(X_tests)\n",
    "y_test_prob=rfc.predict_proba(X_tests)[:,1]\n",
    "\n",
    "\n",
    "print('confusion matrix-test\\n',confusion_matrix(y_test,y_test_pred))\n",
    "print('overall accuracy-test',accuracy_score(y_test,y_test_pred))\n",
    "print('AUC-test',roc_auc_score(y_test,y_test_prob))\n",
    "\n",
    "fpr,tpr,thresholds=roc_curve(y_test,y_test_prob)\n",
    "plt.plot(fpr,tpr)\n",
    "plt.plot(fpr,fpr)\n",
    "plt.show()"
   ]
  },
  {
   "cell_type": "markdown",
   "metadata": {},
   "source": [
    "# Hyperparameter tuning  of random forest"
   ]
  },
  {
   "cell_type": "code",
   "execution_count": 25,
   "metadata": {},
   "outputs": [
    {
     "data": {
      "text/plain": [
       "RandomizedSearchCV(cv=3, error_score=nan,\n",
       "                   estimator=RandomForestClassifier(bootstrap=True,\n",
       "                                                    ccp_alpha=0.0,\n",
       "                                                    class_weight=None,\n",
       "                                                    criterion='gini',\n",
       "                                                    max_depth=None,\n",
       "                                                    max_features='auto',\n",
       "                                                    max_leaf_nodes=None,\n",
       "                                                    max_samples=None,\n",
       "                                                    min_impurity_decrease=0.0,\n",
       "                                                    min_impurity_split=None,\n",
       "                                                    min_samples_leaf=1,\n",
       "                                                    min_samples_split=2,\n",
       "                                                    min_weight_fraction_leaf=0.0,\n",
       "                                                    n_estimators=100,\n",
       "                                                    n_jobs...\n",
       "                                        'min_samples_leaf': <scipy.stats._distn_infrastructure.rv_frozen object at 0x000001FFBE2D58D0>,\n",
       "                                        'min_samples_split': <scipy.stats._distn_infrastructure.rv_frozen object at 0x000001FFBE2D5320>,\n",
       "                                        'n_estimators': <scipy.stats._distn_infrastructure.rv_frozen object at 0x000001FFBE2D5358>},\n",
       "                   pre_dispatch='2*n_jobs', random_state=3, refit=True,\n",
       "                   return_train_score=True, scoring='roc_auc', verbose=0)"
      ]
     },
     "execution_count": 25,
     "metadata": {},
     "output_type": "execute_result"
    }
   ],
   "source": [
    "from sklearn.model_selection import RandomizedSearchCV\n",
    "from scipy.stats import randint as sp_randint\n",
    "\n",
    "rfc=RandomForestClassifier(random_state=3)\n",
    "params={'n_estimators':sp_randint(50,200),'max_features':sp_randint(1,24),'max_depth':sp_randint(2,10),\n",
    "        'min_samples_split':sp_randint(2,20),'min_samples_leaf':sp_randint(2,20),\n",
    "       'criterion':['gini','entropy']}\n",
    "\n",
    "rsearch_rfc=RandomizedSearchCV(rfc,param_distributions=params,n_iter=100,cv=3,n_jobs=-1,scoring='roc_auc',\n",
    "                          return_train_score=True,random_state=3)\n",
    "\n",
    "rsearch_rfc.fit(xs,y)"
   ]
  },
  {
   "cell_type": "code",
   "execution_count": 26,
   "metadata": {},
   "outputs": [
    {
     "data": {
      "text/plain": [
       "{'criterion': 'entropy',\n",
       " 'max_depth': 8,\n",
       " 'max_features': 2,\n",
       " 'min_samples_leaf': 17,\n",
       " 'min_samples_split': 5,\n",
       " 'n_estimators': 120}"
      ]
     },
     "execution_count": 26,
     "metadata": {},
     "output_type": "execute_result"
    }
   ],
   "source": [
    "rsearch_rfc.best_params_"
   ]
  },
  {
   "cell_type": "code",
   "execution_count": 27,
   "metadata": {},
   "outputs": [
    {
     "data": {
      "text/html": [
       "<div>\n",
       "<style>\n",
       "    .dataframe thead tr:only-child th {\n",
       "        text-align: right;\n",
       "    }\n",
       "\n",
       "    .dataframe thead th {\n",
       "        text-align: left;\n",
       "    }\n",
       "\n",
       "    .dataframe tbody tr th {\n",
       "        vertical-align: top;\n",
       "    }\n",
       "</style>\n",
       "<table border=\"1\" class=\"dataframe\">\n",
       "  <thead>\n",
       "    <tr style=\"text-align: right;\">\n",
       "      <th></th>\n",
       "      <th>mean_fit_time</th>\n",
       "      <th>mean_score_time</th>\n",
       "      <th>mean_test_score</th>\n",
       "      <th>mean_train_score</th>\n",
       "      <th>param_criterion</th>\n",
       "      <th>param_max_depth</th>\n",
       "      <th>param_max_features</th>\n",
       "      <th>param_min_samples_leaf</th>\n",
       "      <th>param_min_samples_split</th>\n",
       "      <th>param_n_estimators</th>\n",
       "      <th>...</th>\n",
       "      <th>split0_test_score</th>\n",
       "      <th>split0_train_score</th>\n",
       "      <th>split1_test_score</th>\n",
       "      <th>split1_train_score</th>\n",
       "      <th>split2_test_score</th>\n",
       "      <th>split2_train_score</th>\n",
       "      <th>std_fit_time</th>\n",
       "      <th>std_score_time</th>\n",
       "      <th>std_test_score</th>\n",
       "      <th>std_train_score</th>\n",
       "    </tr>\n",
       "  </thead>\n",
       "  <tbody>\n",
       "    <tr>\n",
       "      <th>0</th>\n",
       "      <td>0.198527</td>\n",
       "      <td>0.036765</td>\n",
       "      <td>0.841739</td>\n",
       "      <td>0.853879</td>\n",
       "      <td>gini</td>\n",
       "      <td>2</td>\n",
       "      <td>4</td>\n",
       "      <td>10</td>\n",
       "      <td>2</td>\n",
       "      <td>71</td>\n",
       "      <td>...</td>\n",
       "      <td>0.845836</td>\n",
       "      <td>0.852078</td>\n",
       "      <td>0.830451</td>\n",
       "      <td>0.860699</td>\n",
       "      <td>0.848930</td>\n",
       "      <td>0.848861</td>\n",
       "      <td>0.021800</td>\n",
       "      <td>0.011845</td>\n",
       "      <td>0.008081</td>\n",
       "      <td>0.004998</td>\n",
       "    </tr>\n",
       "    <tr>\n",
       "      <th>1</th>\n",
       "      <td>0.977267</td>\n",
       "      <td>0.065842</td>\n",
       "      <td>0.841063</td>\n",
       "      <td>0.888486</td>\n",
       "      <td>entropy</td>\n",
       "      <td>5</td>\n",
       "      <td>11</td>\n",
       "      <td>13</td>\n",
       "      <td>11</td>\n",
       "      <td>188</td>\n",
       "      <td>...</td>\n",
       "      <td>0.849424</td>\n",
       "      <td>0.887724</td>\n",
       "      <td>0.819193</td>\n",
       "      <td>0.895277</td>\n",
       "      <td>0.854571</td>\n",
       "      <td>0.882456</td>\n",
       "      <td>0.029065</td>\n",
       "      <td>0.008035</td>\n",
       "      <td>0.015606</td>\n",
       "      <td>0.005262</td>\n",
       "    </tr>\n",
       "    <tr>\n",
       "      <th>2</th>\n",
       "      <td>0.717240</td>\n",
       "      <td>0.051471</td>\n",
       "      <td>0.839280</td>\n",
       "      <td>0.956215</td>\n",
       "      <td>entropy</td>\n",
       "      <td>9</td>\n",
       "      <td>7</td>\n",
       "      <td>2</td>\n",
       "      <td>14</td>\n",
       "      <td>143</td>\n",
       "      <td>...</td>\n",
       "      <td>0.847097</td>\n",
       "      <td>0.956788</td>\n",
       "      <td>0.817690</td>\n",
       "      <td>0.955860</td>\n",
       "      <td>0.853052</td>\n",
       "      <td>0.955996</td>\n",
       "      <td>0.010527</td>\n",
       "      <td>0.001251</td>\n",
       "      <td>0.015458</td>\n",
       "      <td>0.000409</td>\n",
       "    </tr>\n",
       "    <tr>\n",
       "      <th>3</th>\n",
       "      <td>0.970582</td>\n",
       "      <td>0.035094</td>\n",
       "      <td>0.832097</td>\n",
       "      <td>0.960873</td>\n",
       "      <td>entropy</td>\n",
       "      <td>8</td>\n",
       "      <td>18</td>\n",
       "      <td>4</td>\n",
       "      <td>4</td>\n",
       "      <td>110</td>\n",
       "      <td>...</td>\n",
       "      <td>0.838559</td>\n",
       "      <td>0.960733</td>\n",
       "      <td>0.806270</td>\n",
       "      <td>0.963339</td>\n",
       "      <td>0.851464</td>\n",
       "      <td>0.958547</td>\n",
       "      <td>0.012059</td>\n",
       "      <td>0.001638</td>\n",
       "      <td>0.019008</td>\n",
       "      <td>0.001959</td>\n",
       "    </tr>\n",
       "    <tr>\n",
       "      <th>4</th>\n",
       "      <td>0.549127</td>\n",
       "      <td>0.050136</td>\n",
       "      <td>0.843139</td>\n",
       "      <td>0.888573</td>\n",
       "      <td>entropy</td>\n",
       "      <td>5</td>\n",
       "      <td>6</td>\n",
       "      <td>10</td>\n",
       "      <td>16</td>\n",
       "      <td>147</td>\n",
       "      <td>...</td>\n",
       "      <td>0.851090</td>\n",
       "      <td>0.885841</td>\n",
       "      <td>0.825779</td>\n",
       "      <td>0.894355</td>\n",
       "      <td>0.852548</td>\n",
       "      <td>0.885524</td>\n",
       "      <td>0.017373</td>\n",
       "      <td>0.009923</td>\n",
       "      <td>0.012290</td>\n",
       "      <td>0.004090</td>\n",
       "    </tr>\n",
       "  </tbody>\n",
       "</table>\n",
       "<p>5 rows × 22 columns</p>\n",
       "</div>"
      ],
      "text/plain": [
       "   mean_fit_time  mean_score_time  mean_test_score  mean_train_score  \\\n",
       "0       0.198527         0.036765         0.841739          0.853879   \n",
       "1       0.977267         0.065842         0.841063          0.888486   \n",
       "2       0.717240         0.051471         0.839280          0.956215   \n",
       "3       0.970582         0.035094         0.832097          0.960873   \n",
       "4       0.549127         0.050136         0.843139          0.888573   \n",
       "\n",
       "  param_criterion param_max_depth param_max_features param_min_samples_leaf  \\\n",
       "0            gini               2                  4                     10   \n",
       "1         entropy               5                 11                     13   \n",
       "2         entropy               9                  7                      2   \n",
       "3         entropy               8                 18                      4   \n",
       "4         entropy               5                  6                     10   \n",
       "\n",
       "  param_min_samples_split param_n_estimators       ...         \\\n",
       "0                       2                 71       ...          \n",
       "1                      11                188       ...          \n",
       "2                      14                143       ...          \n",
       "3                       4                110       ...          \n",
       "4                      16                147       ...          \n",
       "\n",
       "  split0_test_score  split0_train_score  split1_test_score  \\\n",
       "0          0.845836            0.852078           0.830451   \n",
       "1          0.849424            0.887724           0.819193   \n",
       "2          0.847097            0.956788           0.817690   \n",
       "3          0.838559            0.960733           0.806270   \n",
       "4          0.851090            0.885841           0.825779   \n",
       "\n",
       "   split1_train_score  split2_test_score  split2_train_score  std_fit_time  \\\n",
       "0            0.860699           0.848930            0.848861      0.021800   \n",
       "1            0.895277           0.854571            0.882456      0.029065   \n",
       "2            0.955860           0.853052            0.955996      0.010527   \n",
       "3            0.963339           0.851464            0.958547      0.012059   \n",
       "4            0.894355           0.852548            0.885524      0.017373   \n",
       "\n",
       "   std_score_time  std_test_score  std_train_score  \n",
       "0        0.011845        0.008081         0.004998  \n",
       "1        0.008035        0.015606         0.005262  \n",
       "2        0.001251        0.015458         0.000409  \n",
       "3        0.001638        0.019008         0.001959  \n",
       "4        0.009923        0.012290         0.004090  \n",
       "\n",
       "[5 rows x 22 columns]"
      ]
     },
     "execution_count": 27,
     "metadata": {},
     "output_type": "execute_result"
    }
   ],
   "source": [
    "pd.DataFrame(rsearch_rfc.cv_results_).head()"
   ]
  },
  {
   "cell_type": "code",
   "execution_count": 28,
   "metadata": {},
   "outputs": [
    {
     "name": "stdout",
     "output_type": "stream",
     "text": [
      "confusion matrix-train\n",
      " [[884  28]\n",
      " [191 127]]\n",
      "overall accuracy-train 0.821951219512\n",
      "AUC-train 0.88540632241\n",
      "confusion matrix-test\n",
      " [[383  23]\n",
      " [ 84  38]]\n",
      "overall accuracy-test 0.797348484848\n",
      "AUC-test 0.840365824114\n"
     ]
    },
    {
     "data": {
      "image/png": "[encoded data removed]",
      "text/plain": [
       "<matplotlib.figure.Figure at 0x1ffbe575e80>"
      ]
     },
     "metadata": {},
     "output_type": "display_data"
    }
   ],
   "source": [
    "rfc=RandomForestClassifier(**rsearch_rfc.best_params_,random_state=3)\n",
    "\n",
    "\n",
    "rfc.fit(X_trains,y_train)\n",
    "\n",
    "y_pred=rfc.predict(X_trains)\n",
    "\n",
    "y_train_prob=rfc.predict_proba(X_trains)[:,1]\n",
    "print('confusion matrix-train\\n',confusion_matrix(y_train,y_pred))\n",
    "print('overall accuracy-train',accuracy_score(y_train,y_pred))\n",
    "print('AUC-train',roc_auc_score(y_train,y_train_prob))\n",
    "\n",
    "y_test_pred=rfc.predict(X_tests)\n",
    "y_test_prob=rfc.predict_proba(X_tests)[:,1]\n",
    "\n",
    "\n",
    "print('confusion matrix-test\\n',confusion_matrix(y_test,y_test_pred))\n",
    "print('overall accuracy-test',accuracy_score(y_test,y_test_pred))\n",
    "print('AUC-test',roc_auc_score(y_test,y_test_prob))\n",
    "\n",
    "fpr,tpr,thresholds=roc_curve(y_test,y_test_prob)\n",
    "plt.plot(fpr,tpr)\n",
    "plt.plot(fpr,fpr)\n",
    "plt.show()"
   ]
  },
  {
   "cell_type": "code",
   "execution_count": 29,
   "metadata": {},
   "outputs": [
    {
     "data": {
      "text/html": [
       "<div>\n",
       "<style>\n",
       "    .dataframe thead tr:only-child th {\n",
       "        text-align: right;\n",
       "    }\n",
       "\n",
       "    .dataframe thead th {\n",
       "        text-align: left;\n",
       "    }\n",
       "\n",
       "    .dataframe tbody tr th {\n",
       "        vertical-align: top;\n",
       "    }\n",
       "</style>\n",
       "<table border=\"1\" class=\"dataframe\">\n",
       "  <thead>\n",
       "    <tr style=\"text-align: right;\">\n",
       "      <th></th>\n",
       "      <th>imp</th>\n",
       "    </tr>\n",
       "  </thead>\n",
       "  <tbody>\n",
       "    <tr>\n",
       "      <th>tenure</th>\n",
       "      <td>0.155280</td>\n",
       "    </tr>\n",
       "    <tr>\n",
       "      <th>total_charges</th>\n",
       "      <td>0.122103</td>\n",
       "    </tr>\n",
       "    <tr>\n",
       "      <th>contract-two_year</th>\n",
       "      <td>0.093003</td>\n",
       "    </tr>\n",
       "    <tr>\n",
       "      <th>internet_service-fiber_optic</th>\n",
       "      <td>0.081678</td>\n",
       "    </tr>\n",
       "    <tr>\n",
       "      <th>avg_monthly_charges</th>\n",
       "      <td>0.080668</td>\n",
       "    </tr>\n",
       "    <tr>\n",
       "      <th>monthly_charges</th>\n",
       "      <td>0.080405</td>\n",
       "    </tr>\n",
       "    <tr>\n",
       "      <th>payment_method-electronic_check</th>\n",
       "      <td>0.072725</td>\n",
       "    </tr>\n",
       "    <tr>\n",
       "      <th>internet_service-no</th>\n",
       "      <td>0.042309</td>\n",
       "    </tr>\n",
       "    <tr>\n",
       "      <th>contract-one_year</th>\n",
       "      <td>0.038019</td>\n",
       "    </tr>\n",
       "    <tr>\n",
       "      <th>online_security</th>\n",
       "      <td>0.037998</td>\n",
       "    </tr>\n",
       "    <tr>\n",
       "      <th>dependents</th>\n",
       "      <td>0.033026</td>\n",
       "    </tr>\n",
       "    <tr>\n",
       "      <th>online_backup</th>\n",
       "      <td>0.027734</td>\n",
       "    </tr>\n",
       "    <tr>\n",
       "      <th>paperless_billing</th>\n",
       "      <td>0.022384</td>\n",
       "    </tr>\n",
       "    <tr>\n",
       "      <th>tech_support</th>\n",
       "      <td>0.021082</td>\n",
       "    </tr>\n",
       "    <tr>\n",
       "      <th>payment_method-credit_card_auto</th>\n",
       "      <td>0.020749</td>\n",
       "    </tr>\n",
       "    <tr>\n",
       "      <th>partner</th>\n",
       "      <td>0.013493</td>\n",
       "    </tr>\n",
       "    <tr>\n",
       "      <th>streaming_movies</th>\n",
       "      <td>0.009348</td>\n",
       "    </tr>\n",
       "    <tr>\n",
       "      <th>gender</th>\n",
       "      <td>0.008804</td>\n",
       "    </tr>\n",
       "    <tr>\n",
       "      <th>multiple_lines</th>\n",
       "      <td>0.008321</td>\n",
       "    </tr>\n",
       "    <tr>\n",
       "      <th>streaming_tv</th>\n",
       "      <td>0.007666</td>\n",
       "    </tr>\n",
       "    <tr>\n",
       "      <th>senior</th>\n",
       "      <td>0.007320</td>\n",
       "    </tr>\n",
       "    <tr>\n",
       "      <th>device_protection</th>\n",
       "      <td>0.007224</td>\n",
       "    </tr>\n",
       "    <tr>\n",
       "      <th>payment_method-mailed_check</th>\n",
       "      <td>0.006613</td>\n",
       "    </tr>\n",
       "    <tr>\n",
       "      <th>phone_service</th>\n",
       "      <td>0.002047</td>\n",
       "    </tr>\n",
       "  </tbody>\n",
       "</table>\n",
       "</div>"
      ],
      "text/plain": [
       "                                      imp\n",
       "tenure                           0.155280\n",
       "total_charges                    0.122103\n",
       "contract-two_year                0.093003\n",
       "internet_service-fiber_optic     0.081678\n",
       "avg_monthly_charges              0.080668\n",
       "monthly_charges                  0.080405\n",
       "payment_method-electronic_check  0.072725\n",
       "internet_service-no              0.042309\n",
       "contract-one_year                0.038019\n",
       "online_security                  0.037998\n",
       "dependents                       0.033026\n",
       "online_backup                    0.027734\n",
       "paperless_billing                0.022384\n",
       "tech_support                     0.021082\n",
       "payment_method-credit_card_auto  0.020749\n",
       "partner                          0.013493\n",
       "streaming_movies                 0.009348\n",
       "gender                           0.008804\n",
       "multiple_lines                   0.008321\n",
       "streaming_tv                     0.007666\n",
       "senior                           0.007320\n",
       "device_protection                0.007224\n",
       "payment_method-mailed_check      0.006613\n",
       "phone_service                    0.002047"
      ]
     },
     "execution_count": 29,
     "metadata": {},
     "output_type": "execute_result"
    }
   ],
   "source": [
    "imp=pd.DataFrame(rfc.feature_importances_,index=X.columns,columns=['imp'])\n",
    "imp=imp.sort_values(by='imp',ascending=False)\n",
    "imp\n",
    "\n",
    "#if tenure is removed from model, then accuracy of model will drop by 15%\n",
    "#similarly, for other features\n",
    "#Importance shows how much accuracy will decrease if a feature is removed\n",
    "#can be used for feature selection, but features can be removed only if importnace is zero\n",
    "#here, no features should be removed"
   ]
  },
  {
   "cell_type": "markdown",
   "metadata": {},
   "source": [
    "# knn"
   ]
  },
  {
   "cell_type": "code",
   "execution_count": 18,
   "metadata": {},
   "outputs": [
    {
     "data": {
      "text/plain": [
       "RandomizedSearchCV(cv=3, error_score=nan,\n",
       "                   estimator=KNeighborsClassifier(algorithm='auto',\n",
       "                                                  leaf_size=30,\n",
       "                                                  metric='minkowski',\n",
       "                                                  metric_params=None,\n",
       "                                                  n_jobs=None, n_neighbors=5,\n",
       "                                                  p=2, weights='uniform'),\n",
       "                   iid='deprecated', n_iter=50, n_jobs=-1,\n",
       "                   param_distributions={'n_neighbors': <scipy.stats._distn_infrastructure.rv_frozen object at 0x000001FFBE25DD30>,\n",
       "                                        'p': <scipy.stats._distn_infrastructure.rv_frozen object at 0x000001FFBE284AC8>},\n",
       "                   pre_dispatch='2*n_jobs', random_state=3, refit=True,\n",
       "                   return_train_score=True, scoring=None, verbose=0)"
      ]
     },
     "execution_count": 18,
     "metadata": {},
     "output_type": "execute_result"
    }
   ],
   "source": [
    "from sklearn.neighbors import KNeighborsClassifier\n",
    "from sklearn.model_selection import RandomizedSearchCV,GridSearchCV\n",
    "from scipy.stats import randint as sp_randint\n",
    "\n",
    "knn=KNeighborsClassifier()\n",
    "\n",
    "params={'n_neighbors':sp_randint(1,15),'p':sp_randint(1,5)}\n",
    "rsearch_knn=RandomizedSearchCV(knn,param_distributions=params,cv=3,n_iter=50,return_train_score=True,n_jobs=-1,random_state=3)\n",
    "rsearch_knn.fit(xs,y)"
   ]
  },
  {
   "cell_type": "code",
   "execution_count": 19,
   "metadata": {},
   "outputs": [
    {
     "data": {
      "text/plain": [
       "{'n_neighbors': 12, 'p': 3}"
      ]
     },
     "execution_count": 19,
     "metadata": {},
     "output_type": "execute_result"
    }
   ],
   "source": [
    "rsearch_knn.best_params_"
   ]
  },
  {
   "cell_type": "code",
   "execution_count": 20,
   "metadata": {},
   "outputs": [
    {
     "name": "stdout",
     "output_type": "stream",
     "text": [
      "confusion matrix-train\n",
      " [[827  85]\n",
      " [134 184]]\n",
      "overall accuracy-train 0.821951219512\n",
      "AUC-train 0.872013957851\n",
      "confusion matrix-test\n",
      " [[359  47]\n",
      " [ 59  63]]\n",
      "overall accuracy-test 0.799242424242\n",
      "Classification report-test:               precision    recall  f1-score   support\n",
      "\n",
      "           0       0.86      0.88      0.87       406\n",
      "           1       0.57      0.52      0.54       122\n",
      "\n",
      "    accuracy                           0.80       528\n",
      "   macro avg       0.72      0.70      0.71       528\n",
      "weighted avg       0.79      0.80      0.80       528\n",
      "\n",
      "AUC-test 0.812929015586\n"
     ]
    },
    {
     "data": {
      "image/png": "[encoded data removed]",
      "text/plain": [
       "<matplotlib.figure.Figure at 0x1ffbe30b470>"
      ]
     },
     "metadata": {},
     "output_type": "display_data"
    }
   ],
   "source": [
    "from sklearn.metrics import confusion_matrix,accuracy_score,classification_report,roc_auc_score,roc_curve\n",
    "knn=KNeighborsClassifier(**rsearch_knn.best_params_)\n",
    "\n",
    "knn.fit(X_trains,y_train)\n",
    "\n",
    "y_pred=knn.predict(X_trains)\n",
    "\n",
    "y_train_prob=knn.predict_proba(X_trains)[:,1]\n",
    "print('confusion matrix-train\\n',confusion_matrix(y_train,y_pred))\n",
    "print('overall accuracy-train',accuracy_score(y_train,y_pred))\n",
    "print('AUC-train',roc_auc_score(y_train,y_train_prob))\n",
    "\n",
    "y_test_pred=knn.predict(X_tests)\n",
    "y_test_prob=knn.predict_proba(X_tests)[:,1]\n",
    "\n",
    "\n",
    "print('confusion matrix-test\\n',confusion_matrix(y_test,y_test_pred))\n",
    "print('overall accuracy-test',accuracy_score(y_test,y_test_pred))\n",
    "print('Classification report-test:',classification_report(y_test,y_test_pred))\n",
    "print('AUC-test',roc_auc_score(y_test,y_test_prob))\n",
    "\n",
    "fpr,tpr,thresholds=roc_curve(y_test,y_test_prob)\n",
    "plt.plot(fpr,tpr)\n",
    "plt.plot(fpr,fpr,'r-')\n",
    "plt.xlabel('FPR')\n",
    "plt.show()"
   ]
  },
  {
   "cell_type": "markdown",
   "metadata": {},
   "source": [
    "\n",
    "# Stacking rsults of 3 learners(random forest,knn,logistic reg)"
   ]
  },
  {
   "cell_type": "code",
   "execution_count": 23,
   "metadata": {},
   "outputs": [
    {
     "name": "stdout",
     "output_type": "stream",
     "text": [
      "confusion matrix-train\n",
      " [[826  86]\n",
      " [146 172]]\n",
      "overall accuracy-train 0.811382113821\n",
      "AUC-train 0.855832092023\n",
      "confusion matrix-test\n",
      " [[359  47]\n",
      " [ 57  65]]\n",
      "overall accuracy-test 0.80303030303\n",
      "Classification report-test:               precision    recall  f1-score   support\n",
      "\n",
      "           0       0.86      0.88      0.87       406\n",
      "           1       0.58      0.53      0.56       122\n",
      "\n",
      "    accuracy                           0.80       528\n",
      "   macro avg       0.72      0.71      0.71       528\n",
      "weighted avg       0.80      0.80      0.80       528\n",
      "\n",
      "AUC-test 0.843111523863\n"
     ]
    },
    {
     "data": {
      "image/png": "[encoded data removed]",
      "text/plain": [
       "<matplotlib.figure.Figure at 0x1ffbe3fbf60>"
      ]
     },
     "metadata": {},
     "output_type": "display_data"
    }
   ],
   "source": [
    "from sklearn.linear_model import LogisticRegression\n",
    "lr=LogisticRegression(solver='liblinear')\n",
    "\n",
    "lr.fit(X_trains,y_train)\n",
    "\n",
    "\n",
    "y_pred=lr.predict(X_trains)\n",
    "\n",
    "y_train_prob=lr.predict_proba(X_trains)[:,1]\n",
    "print('confusion matrix-train\\n',confusion_matrix(y_train,y_pred))\n",
    "print('overall accuracy-train',accuracy_score(y_train,y_pred))\n",
    "print('AUC-train',roc_auc_score(y_train,y_train_prob))\n",
    "\n",
    "y_test_pred=lr.predict(X_tests)\n",
    "y_test_prob=lr.predict_proba(X_tests)[:,1]\n",
    "\n",
    "\n",
    "print('confusion matrix-test\\n',confusion_matrix(y_test,y_test_pred))\n",
    "print('overall accuracy-test',accuracy_score(y_test,y_test_pred))\n",
    "print('Classification report-test:',classification_report(y_test,y_test_pred))\n",
    "print('AUC-test',roc_auc_score(y_test,y_test_prob))\n",
    "\n",
    "fpr,tpr,thresholds=roc_curve(y_test,y_test_prob)\n",
    "plt.plot(fpr,tpr)\n",
    "plt.plot(fpr,fpr,'r-')\n",
    "plt.xlabel('FPR')\n",
    "plt.ylabel('TRP')\n",
    "plt.show()"
   ]
  },
  {
   "cell_type": "code",
   "execution_count": 31,
   "metadata": {},
   "outputs": [],
   "source": [
    "from sklearn.ensemble import VotingClassifier\n",
    "lr=LogisticRegression(solver='liblinear')\n",
    "\n",
    "knn=KNeighborsClassifier(**rsearch_knn.best_params_)\n",
    "rfc=RandomForestClassifier(**rsearch_rfc.best_params_)"
   ]
  },
  {
   "cell_type": "code",
   "execution_count": 33,
   "metadata": {},
   "outputs": [
    {
     "name": "stdout",
     "output_type": "stream",
     "text": [
      "Accuracy score-train: 0.817886178862\n",
      "Accuracy score-test: 0.799242424242\n"
     ]
    }
   ],
   "source": [
    "#hard voting\n",
    "clf=VotingClassifier(estimators=[('lr',lr),('knn',knn),('rfc',rfc)],voting='hard')\n",
    "clf.fit(X_trains,y_train)\n",
    "y_train_pred=clf.predict(X_trains)\n",
    "y_test_pred=clf.predict(X_tests)\n",
    "\n",
    "print('Accuracy score-train:',accuracy_score(y_train,y_train_pred))\n",
    "print('Accuracy score-test:',accuracy_score(y_test,y_test_pred))\n",
    "#apply 0.5 cufoff to each and then vote"
   ]
  },
  {
   "cell_type": "code",
   "execution_count": 36,
   "metadata": {},
   "outputs": [
    {
     "name": "stdout",
     "output_type": "stream",
     "text": [
      "confusion matrix-train\n",
      " [[884  28]\n",
      " [191 127]]\n",
      "overall accuracy-train 0.821951219512\n",
      "AUC-train 0.883661591085\n",
      "confusion matrix-test\n",
      " [[368  38]\n",
      " [ 64  58]]\n",
      "overall accuracy-test 0.806818181818\n",
      "Classification report-test:               precision    recall  f1-score   support\n",
      "\n",
      "           0       0.85      0.91      0.88       406\n",
      "           1       0.60      0.48      0.53       122\n",
      "\n",
      "    accuracy                           0.81       528\n",
      "   macro avg       0.73      0.69      0.71       528\n",
      "weighted avg       0.79      0.81      0.80       528\n",
      "\n",
      "AUC-test 0.840002422676\n"
     ]
    },
    {
     "data": {
      "image/png": "[encoded data removed]",
      "text/plain": [
       "<matplotlib.figure.Figure at 0x1ffbe4f1358>"
      ]
     },
     "metadata": {},
     "output_type": "display_data"
    }
   ],
   "source": [
    "#soft voting-Equal weightage -apply average and then 0.5 cutoff 1-lr(1/6),2-knn(2/6),3-rfc(3/6)\n",
    "clf=VotingClassifier(estimators=[('lr',lr),('knn',knn),('rfc',rfc)],weights=[1,2,3],voting='soft')\n",
    "\n",
    "clf.fit(X_trains,y_train)\n",
    "y_train_pred=clf.predict(X_trains)\n",
    "y_train_prob=clf.predict_proba(X_trains)[:,1]\n",
    "\n",
    "print('confusion matrix-train\\n',confusion_matrix(y_train,y_pred))\n",
    "print('overall accuracy-train',accuracy_score(y_train,y_pred))\n",
    "print('AUC-train',roc_auc_score(y_train,y_train_prob))\n",
    "\n",
    "y_test_pred=clf.predict(X_tests)\n",
    "y_test_prob=clf.predict_proba(X_tests)[:,1]\n",
    "\n",
    "\n",
    "print('confusion matrix-test\\n',confusion_matrix(y_test,y_test_pred))\n",
    "print('overall accuracy-test',accuracy_score(y_test,y_test_pred))\n",
    "print('Classification report-test:',classification_report(y_test,y_test_pred))\n",
    "print('AUC-test',roc_auc_score(y_test,y_test_prob))\n",
    "\n",
    "fpr,tpr,thresholds=roc_curve(y_test,y_test_prob)\n",
    "plt.plot(fpr,tpr)\n",
    "plt.plot(fpr,fpr,'r-')\n",
    "plt.xlabel('FPR')\n",
    "plt.ylabel('TRP')\n",
    "plt.show()\n"
   ]
  },
  {
   "cell_type": "code",
   "execution_count": null,
   "metadata": {
    "collapsed": true
   },
   "outputs": [],
   "source": []
  }
 ],
 "metadata": {
  "kernelspec": {
   "display_name": "Python 3",
   "language": "python",
   "name": "python3"
  },
  "language_info": {
   "codemirror_mode": {
    "name": "ipython",
    "version": 3
   },
   "file_extension": ".py",
   "mimetype": "text/x-python",
   "name": "python",
   "nbconvert_exporter": "python",
   "pygments_lexer": "ipython3",
   "version": "3.6.3"
  }
 },
 "nbformat": 4,
 "nbformat_minor": 2
}
